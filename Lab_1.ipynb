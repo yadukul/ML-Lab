{
  "nbformat": 4,
  "nbformat_minor": 0,
  "metadata": {
    "colab": {
      "provenance": [],
      "include_colab_link": true
    },
    "kernelspec": {
      "name": "python3",
      "display_name": "Python 3"
    },
    "language_info": {
      "name": "python"
    }
  },
  "cells": [
    {
      "cell_type": "markdown",
      "metadata": {
        "id": "view-in-github",
        "colab_type": "text"
      },
      "source": [
        "<a href=\"https://colab.research.google.com/github/yadukul/ML-Lab/blob/main/Lab_1.ipynb\" target=\"_parent\"><img src=\"https://colab.research.google.com/assets/colab-badge.svg\" alt=\"Open In Colab\"/></a>"
      ]
    },
    {
      "cell_type": "code",
      "execution_count": null,
      "metadata": {
        "id": "hizs865u_mFs"
      },
      "outputs": [],
      "source": [
        "import numpy as np\n",
        "import pandas as pd\n",
        "from numpy import linalg as la\n",
        "import statistics\n",
        "import matplotlib.pyplot as plt"
      ]
    },
    {
      "cell_type": "markdown",
      "source": [
        "A1. Please refer to the “Purchase Data” worksheet of Lab Session1 Data.xlsx. Please load the data\n",
        "and segregate them into 2 matrices A & C (following the nomenclature of AX = C). Do the following\n",
        "activities."
      ],
      "metadata": {
        "id": "h_NVe7_V_t3r"
      }
    },
    {
      "cell_type": "code",
      "source": [
        "val = pd.read_excel(r\"/content/Lab Session1 Data.xlsx\",sheet_name='Purchase data')\n",
        "A = val.iloc[:,1:4].to_numpy()\n",
        "C = val.iloc[:,4].to_numpy()"
      ],
      "metadata": {
        "id": "BaV7IJJx_tc8"
      },
      "execution_count": null,
      "outputs": []
    },
    {
      "cell_type": "markdown",
      "source": [
        "What is the dimensionality of the vector space for this data?"
      ],
      "metadata": {
        "id": "gnNOpOK7A3uW"
      }
    },
    {
      "cell_type": "code",
      "source": [
        "\n",
        "print(\"The dimension calculated using shape is \", val.shape)\n",
        "\n",
        "print(\"The dimension calculated using ndim is \", val.ndim)"
      ],
      "metadata": {
        "colab": {
          "base_uri": "https://localhost:8080/"
        },
        "id": "DAcSht4-A8Md",
        "outputId": "7866f0c5-d54e-45a8-8247-1971ccefd0af"
      },
      "execution_count": null,
      "outputs": [
        {
          "output_type": "stream",
          "name": "stdout",
          "text": [
            "The dimension calculated using shape is  (10, 22)\n",
            "The dimension calculated using ndim is  2\n"
          ]
        }
      ]
    },
    {
      "cell_type": "markdown",
      "source": [
        " How many vectors exist in this vector space?"
      ],
      "metadata": {
        "id": "tr8QvB5ABKxV"
      }
    },
    {
      "cell_type": "code",
      "source": [
        "print(\"The number of vectors present is \",len(val))"
      ],
      "metadata": {
        "colab": {
          "base_uri": "https://localhost:8080/"
        },
        "id": "RJ7-VVwNBKbZ",
        "outputId": "b8238a2a-c321-4b07-a0bf-5c9df8704bda"
      },
      "execution_count": null,
      "outputs": [
        {
          "output_type": "stream",
          "name": "stdout",
          "text": [
            "The number of vectors present is  10\n"
          ]
        }
      ]
    },
    {
      "cell_type": "markdown",
      "source": [
        "What is the rank of Matrix A?"
      ],
      "metadata": {
        "id": "IZwj3D0yBUGD"
      }
    },
    {
      "cell_type": "code",
      "source": [
        "rankA = la.matrix_rank(A)\n",
        "print(\"The rank of matrix A calculated is \",rankA)"
      ],
      "metadata": {
        "colab": {
          "base_uri": "https://localhost:8080/"
        },
        "id": "nDgUcYrMBWtr",
        "outputId": "297654a7-6738-480a-ae83-5183370f9782"
      },
      "execution_count": null,
      "outputs": [
        {
          "output_type": "stream",
          "name": "stdout",
          "text": [
            "The rank of matrix A calculated is  3\n"
          ]
        }
      ]
    },
    {
      "cell_type": "markdown",
      "source": [
        "Using Pseudo-Inverse find the cost of each product available for sale. or\n",
        "A2. Use the Pseudo-inverse to calculate the model vector X for predicting the cost of the products\n",
        "available with the vendor"
      ],
      "metadata": {
        "id": "69R-JlKRBhaj"
      }
    },
    {
      "cell_type": "code",
      "source": [
        "pseudo_inverse = la.pinv(A)\n",
        "\n",
        "z = np.matmul(pseudo_inverse,C)\n",
        "\n",
        "print(z)"
      ],
      "metadata": {
        "colab": {
          "base_uri": "https://localhost:8080/"
        },
        "id": "XtmusYrhBiyR",
        "outputId": "ec5ff65e-0cf3-4d5b-a47a-f6bd254b0a35"
      },
      "execution_count": null,
      "outputs": [
        {
          "output_type": "stream",
          "name": "stdout",
          "text": [
            "[ 1. 55. 18.]\n"
          ]
        }
      ]
    },
    {
      "cell_type": "markdown",
      "source": [
        "A3. Mark all customers (in “Purchase Data” table) with payments above Rs. 200 as RICH and others\n",
        "as POOR. Develop a classifier model to categorize customers into RICH or POOR class based on\n",
        "purchase behavior."
      ],
      "metadata": {
        "id": "Fbs_5o88BuZo"
      }
    },
    {
      "cell_type": "code",
      "source": [
        "val['rich/poor'] = np.where(val['Payment (Rs)'] > 200,'Rich','Poor')\n",
        "xyz = val.dropna(axis=1,how='any')\n",
        "print(xyz)"
      ],
      "metadata": {
        "colab": {
          "base_uri": "https://localhost:8080/"
        },
        "id": "F9lI1WBLBvSx",
        "outputId": "5699dea5-5c4f-45c5-be57-cad6d08c4482"
      },
      "execution_count": null,
      "outputs": [
        {
          "output_type": "stream",
          "name": "stdout",
          "text": [
            "  Customer  Candies (#)  Mangoes (Kg)  Milk Packets (#)  Payment (Rs)  \\\n",
            "0      C_1           20             6                 2           386   \n",
            "1      C_2           16             3                 6           289   \n",
            "2      C_3           27             6                 2           393   \n",
            "3      C_4           19             1                 2           110   \n",
            "4      C_5           24             4                 2           280   \n",
            "5      C_6           22             1                 5           167   \n",
            "6      C_7           15             4                 2           271   \n",
            "7      C_8           18             4                 2           274   \n",
            "8      C_9           21             1                 4           148   \n",
            "9     C_10           16             2                 4           198   \n",
            "\n",
            "  rich/poor  \n",
            "0      Rich  \n",
            "1      Rich  \n",
            "2      Rich  \n",
            "3      Poor  \n",
            "4      Rich  \n",
            "5      Poor  \n",
            "6      Rich  \n",
            "7      Rich  \n",
            "8      Poor  \n",
            "9      Poor  \n"
          ]
        }
      ]
    },
    {
      "cell_type": "markdown",
      "source": [
        "A4. Please refer to the data present in “IRCTC Stock Price” data sheet of the above excel file. Do the\n",
        "following after loading the data to your programming platform.\n"
      ],
      "metadata": {
        "id": "PDoTg5GfC_hf"
      }
    },
    {
      "cell_type": "code",
      "source": [
        "df = pd.read_excel(r\"Lab Session1 Data.xlsx\",sheet_name='IRCTC Stock Price')"
      ],
      "metadata": {
        "id": "xFQoRS9nC_PX"
      },
      "execution_count": null,
      "outputs": []
    },
    {
      "cell_type": "markdown",
      "source": [
        "• Calculate the mean and variance of the Price data present in column D.\n",
        "(Suggestion: if you use Python, you may use statistics.mean() &\n",
        "statistics.variance() methods).\n"
      ],
      "metadata": {
        "id": "qTztsCM8DKFF"
      }
    },
    {
      "cell_type": "code",
      "source": [
        "print(df)\n",
        "mean = statistics.mean(df['Price'])\n",
        "var = statistics.variance(df['Price'])\n",
        "\n",
        "print(\"The mean value of Price column is \", mean , \"and the variance value is \", var)"
      ],
      "metadata": {
        "colab": {
          "base_uri": "https://localhost:8080/"
        },
        "id": "SfHuMTKsDLi1",
        "outputId": "3d91b581-6d14-4b49-ec9b-7741551451b0"
      },
      "execution_count": null,
      "outputs": [
        {
          "output_type": "stream",
          "name": "stdout",
          "text": [
            "             Date Month  Day    Price     Open     High      Low   Volume  \\\n",
            "0    Jun 29, 2021   Jun  Tue  2081.85  2092.00  2126.90  2065.05    1.67M   \n",
            "1    Jun 28, 2021   Jun  Mon  2077.75  2084.00  2112.45  2068.40  707.73K   \n",
            "2    Jun 25, 2021   Jun  Fri  2068.85  2084.35  2088.50  2053.10  475.82K   \n",
            "3    Jun 24, 2021   Jun  Thu  2072.95  2098.00  2098.00  2066.00  541.51K   \n",
            "4    Jun 23, 2021   Jun  Wed  2078.25  2102.00  2111.40  2072.00  809.62K   \n",
            "..            ...   ...  ...      ...      ...      ...      ...      ...   \n",
            "244  Jul 07, 2020   Jul  Tue  1397.40  1410.00  1411.00  1390.05  480.21K   \n",
            "245  Jul 06, 2020   Jul  Mon  1400.75  1405.50  1415.50  1394.00  614.93K   \n",
            "246  Jul 03, 2020   Jul  Fri  1405.10  1415.00  1425.00  1398.00  599.49K   \n",
            "247  Jul 02, 2020   Jul  Thu  1412.35  1440.00  1467.80  1395.30    2.16M   \n",
            "248  Jul 01, 2020   Jul  Wed  1363.05  1363.65  1377.00  1356.00  383.00K   \n",
            "\n",
            "       Chg%  \n",
            "0    0.0020  \n",
            "1    0.0043  \n",
            "2   -0.0020  \n",
            "3   -0.0026  \n",
            "4   -0.0023  \n",
            "..      ...  \n",
            "244 -0.0024  \n",
            "245 -0.0031  \n",
            "246 -0.0051  \n",
            "247  0.0362  \n",
            "248  0.0032  \n",
            "\n",
            "[249 rows x 9 columns]\n",
            "The mean value of Price column is  1560.663453815261 and the variance value is  58732.365352539186\n"
          ]
        }
      ]
    },
    {
      "cell_type": "markdown",
      "source": [
        "• Select the price data for all Wednesdays and calculate the sample mean. Compare the mean\n",
        "with the population mean and note your observations."
      ],
      "metadata": {
        "id": "XqZ9AjgZDSKe"
      }
    },
    {
      "cell_type": "code",
      "source": [
        "wednesday_price_mean = statistics.mean(df['Price'].loc[df['Day']==\"Wed\"])\n",
        "print(\"The mean value of price data for every wednesday is \",wednesday_price_mean)\n",
        "print(\"The population mean value is \",mean)\n",
        "# we observe that the mean decreases as we reduce the size of dataset.\n"
      ],
      "metadata": {
        "colab": {
          "base_uri": "https://localhost:8080/"
        },
        "id": "_REDHwjsDWuP",
        "outputId": "f93b7315-937c-432b-f3ea-1620c9a9120a"
      },
      "execution_count": null,
      "outputs": [
        {
          "output_type": "stream",
          "name": "stdout",
          "text": [
            "The mean value of price data for every wednesday is  1550.706\n",
            "The population mean value is  1560.663453815261\n"
          ]
        }
      ]
    },
    {
      "cell_type": "markdown",
      "source": [
        "• Select the price data for the month of Apr and calculate the sample mean. Compare the\n",
        "mean with the population mean and note your observations"
      ],
      "metadata": {
        "id": "klCNDNZrDkuv"
      }
    },
    {
      "cell_type": "code",
      "source": [
        "april_price_mean = statistics.mean(df['Price'].loc[df['Month']=='Apr'])\n",
        "print(\"The mean value of price data for April month is \",april_price_mean)"
      ],
      "metadata": {
        "colab": {
          "base_uri": "https://localhost:8080/"
        },
        "id": "zl7691S2Dlet",
        "outputId": "585d797a-2f8a-4d02-b30f-670f4ac89564"
      },
      "execution_count": null,
      "outputs": [
        {
          "output_type": "stream",
          "name": "stdout",
          "text": [
            "The mean value of price data for April month is  1698.9526315789474\n"
          ]
        }
      ]
    },
    {
      "cell_type": "markdown",
      "source": [
        "• From the Chg% (available in column I) find the probability of making a loss over the stock.\n",
        "(Suggestion: use lambda function to find negative values)"
      ],
      "metadata": {
        "id": "F1gG0Jj2DsDg"
      }
    },
    {
      "cell_type": "code",
      "source": [
        "count_total = df['Chg%'].count()\n",
        "profit_count = df['Chg%'].loc[df['Chg%']>0].count()\n",
        "loss_count = df['Chg%'].loc[df['Chg%']<0].count()\n",
        "print(\"Probability of Making a Loss is: \", loss_count/count_total)"
      ],
      "metadata": {
        "colab": {
          "base_uri": "https://localhost:8080/"
        },
        "id": "2HTs2zNADuYc",
        "outputId": "e19830c8-ce50-4053-f2c3-8f8dbfdd3e4d"
      },
      "execution_count": null,
      "outputs": [
        {
          "output_type": "stream",
          "name": "stdout",
          "text": [
            "Probability of Making a Loss is:  0.4979919678714859\n"
          ]
        }
      ]
    },
    {
      "cell_type": "markdown",
      "source": [
        "• Calculate the probability of making a profit on Wednesday."
      ],
      "metadata": {
        "id": "BkACojPdD-8t"
      }
    },
    {
      "cell_type": "code",
      "source": [
        "wednesday_count = df['Chg%'].loc[df['Day'] == 'Wed'].count()\n",
        "profit_count = df['Chg%'].loc[(df['Day'] == 'Wed') & (df['Chg%'] >0)]\n",
        "loss_count = df['Chg%'].loc[(df['Day'] == 'Wed') & (df['Chg%'] <0)]\n",
        "loss_count = loss_count.count()\n",
        "profit_count = profit_count.count()\n",
        "\n",
        "print(\"Probability of a Day Being a Wednesday: \",wednesday_count/count_total)\n",
        "\n",
        "print(\"Probability of Making a Profit on Wednesday: \",profit_count/count_total)\n",
        "\n",
        "print(\"Probability of Making a Loss on Wednesday: \",loss_count/count_total)\n"
      ],
      "metadata": {
        "colab": {
          "base_uri": "https://localhost:8080/"
        },
        "id": "ipFOVGNrD_7O",
        "outputId": "41649ff1-f23d-41c4-ff21-6cbd92fc3a30"
      },
      "execution_count": null,
      "outputs": [
        {
          "output_type": "stream",
          "name": "stdout",
          "text": [
            "Probability of a Day Being a Wednesday:  0.20080321285140562\n",
            "Probability of Making a Profit on Wednesday:  0.08433734939759036\n",
            "Probability of Making a Loss on Wednesday:  0.11646586345381527\n"
          ]
        }
      ]
    },
    {
      "cell_type": "markdown",
      "source": [
        "Calculate the conditional probability of making profit, given that today is Wednesday."
      ],
      "metadata": {
        "id": "X3rZ51yvErHh"
      }
    },
    {
      "cell_type": "code",
      "source": [
        "print(\"Probability of Making a Profit given that it is Wednesday: \",profit_count/wednesday_count)"
      ],
      "metadata": {
        "colab": {
          "base_uri": "https://localhost:8080/"
        },
        "id": "EeB74FGZEt1W",
        "outputId": "e770cdf5-8481-4da4-9592-4bea21874661"
      },
      "execution_count": null,
      "outputs": [
        {
          "output_type": "stream",
          "name": "stdout",
          "text": [
            "Probability of Making a Profit given that it is Wednesday:  0.42\n"
          ]
        }
      ]
    },
    {
      "cell_type": "markdown",
      "source": [
        "• Make a scatter plot of Chg% data against the day of the week."
      ],
      "metadata": {
        "id": "ysSHPvP2E2AV"
      }
    },
    {
      "cell_type": "code",
      "source": [
        "fig, ax = plt.subplots(figsize=(10, 5))\n",
        "ax.scatter(x = df['Chg%'], y = df['Day'])\n",
        "plt.xlabel(\"Change %\")\n",
        "plt.ylabel(\"Days of The Week\")\n",
        "plt.title(\"Days of The Week vs Change %\")"
      ],
      "metadata": {
        "colab": {
          "base_uri": "https://localhost:8080/",
          "height": 504
        },
        "id": "YIszWwopE22Y",
        "outputId": "d99cb06f-d256-4f59-c487-7d075aeeceda"
      },
      "execution_count": null,
      "outputs": [
        {
          "output_type": "execute_result",
          "data": {
            "text/plain": [
              "Text(0.5, 1.0, 'Days of The Week vs Change %')"
            ]
          },
          "metadata": {},
          "execution_count": 15
        },
        {
          "output_type": "display_data",
          "data": {
            "text/plain": [
              "<Figure size 1000x500 with 1 Axes>"
            ],
            "image/png": "[encoded data removed]"
          },
          "metadata": {}
        }
      ]
    }
  ]
}